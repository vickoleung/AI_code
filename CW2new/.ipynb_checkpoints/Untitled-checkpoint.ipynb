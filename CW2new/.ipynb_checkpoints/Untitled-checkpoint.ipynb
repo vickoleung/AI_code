{
 "cells": [
  {
   "cell_type": "code",
   "execution_count": 9,
   "id": "modern-princeton",
   "metadata": {},
   "outputs": [],
   "source": [
    "import torch\n",
    "import numpy as np\n",
    "\n",
    "import torch.nn as nn\n",
    "from torchvision import transforms\n",
    "from torch.nn.utils.rnn import pack_padded_sequence\n",
    "from PIL import Image\n",
    "\n",
    "\n",
    "from datasets import Flickr8k_Images, Flickr8k_Features\n",
    "from models import DecoderRNN, EncoderCNN\n",
    "from utils import *\n",
    "from config import *\n",
    "\n",
    "# if false, train model; otherwise try loading model from checkpoint and evaluate\n",
    "EVAL = False\n",
    "\n",
    "\n",
    "# reconstruct the captions and vocab, just as in extract_features.py\n",
    "lines = read_lines(TOKEN_FILE_TRAIN)\n",
    "image_ids, cleaned_captions = parse_lines(lines)\n",
    "vocab = build_vocab(cleaned_captions)"
   ]
  },
  {
   "cell_type": "code",
   "execution_count": 10,
   "id": "bronze-clothing",
   "metadata": {},
   "outputs": [],
   "source": [
    "# device configuration\n",
    "device = torch.device('cuda' if torch.cuda.is_available() else 'cpu')\n",
    "\n",
    "\n",
    "# initialize the models and set the learning parameters\n",
    "decoder = DecoderRNN(EMBED_SIZE, HIDDEN_SIZE, len(vocab), NUM_LAYERS).to(device)"
   ]
  },
  {
   "cell_type": "code",
   "execution_count": 11,
   "id": "complete-trauma",
   "metadata": {},
   "outputs": [
    {
     "name": "stdout",
     "output_type": "stream",
     "text": [
      "Loaded features torch.Size([7089, 2048])\n"
     ]
    }
   ],
   "source": [
    "features = torch.load('features.pt', map_location=device)\n",
    "print(\"Loaded features\", features.shape)"
   ]
  },
  {
   "cell_type": "code",
   "execution_count": 12,
   "id": "amber-cathedral",
   "metadata": {},
   "outputs": [
    {
     "name": "stdout",
     "output_type": "stream",
     "text": [
      "Duplicated features torch.Size([35445, 2048])\n"
     ]
    }
   ],
   "source": [
    "features = features.repeat_interleave(5, 0)\n",
    "print(\"Duplicated features\", features.shape)"
   ]
  },
  {
   "cell_type": "code",
   "execution_count": 13,
   "id": "animal-guess",
   "metadata": {},
   "outputs": [],
   "source": [
    "dataset_train = Flickr8k_Features(\n",
    "    image_ids=image_ids,\n",
    "    captions=cleaned_captions,\n",
    "    vocab=vocab,\n",
    "    features=features,\n",
    ")"
   ]
  },
  {
   "cell_type": "code",
   "execution_count": 17,
   "id": "veterinary-penny",
   "metadata": {},
   "outputs": [],
   "source": [
    "train_loader = torch.utils.data.DataLoader(\n",
    "    dataset_train,\n",
    "    batch_size=64, # change as needed\n",
    "    shuffle=True,\n",
    "    num_workers=0, # may need to set to 0\n",
    "    collate_fn=caption_collate_fn, # explicitly overwrite the collate_fn\n",
    ")"
   ]
  },
  {
   "cell_type": "code",
   "execution_count": 25,
   "id": "rural-cycle",
   "metadata": {},
   "outputs": [
    {
     "name": "stdout",
     "output_type": "stream",
     "text": [
      "35445\n",
      "35445\n",
      "torch.Size([35445, 2048])\n"
     ]
    }
   ],
   "source": [
    "# loss and optimizer\n",
    "criterion = nn.CrossEntropyLoss()\n",
    "optimizer = torch.optim.Adam(decoder.parameters(), lr=LR)\n",
    "\n",
    "print(len(image_ids))\n",
    "print(len(cleaned_captions))\n",
    "print(features.shape)"
   ]
  },
  {
   "cell_type": "code",
   "execution_count": 26,
   "id": "constant-balance",
   "metadata": {},
   "outputs": [
    {
     "ename": "NameError",
     "evalue": "name 'captions' is not defined",
     "output_type": "error",
     "traceback": [
      "\u001b[1;31m---------------------------------------------------------------------------\u001b[0m",
      "\u001b[1;31mNameError\u001b[0m                                 Traceback (most recent call last)",
      "\u001b[1;32m<ipython-input-26-2a155d20abaf>\u001b[0m in \u001b[0;36m<module>\u001b[1;34m\u001b[0m\n\u001b[1;32m----> 1\u001b[1;33m \u001b[0mtargets\u001b[0m \u001b[1;33m=\u001b[0m \u001b[0mpack_padded_sequence\u001b[0m\u001b[1;33m(\u001b[0m\u001b[0mcaptions\u001b[0m\u001b[1;33m,\u001b[0m \u001b[0mlengths\u001b[0m\u001b[1;33m,\u001b[0m \u001b[0mbatch_first\u001b[0m\u001b[1;33m=\u001b[0m\u001b[1;32mTrue\u001b[0m\u001b[1;33m)\u001b[0m\u001b[1;33m[\u001b[0m\u001b[1;36m0\u001b[0m\u001b[1;33m]\u001b[0m\u001b[1;33m\u001b[0m\u001b[1;33m\u001b[0m\u001b[0m\n\u001b[0m",
      "\u001b[1;31mNameError\u001b[0m: name 'captions' is not defined"
     ]
    }
   ],
   "source": [
    "targets = pack_padded_sequence(captions, lengths, batch_first=True)[0]"
   ]
  },
  {
   "cell_type": "code",
   "execution_count": 24,
   "id": "functioning-fraction",
   "metadata": {},
   "outputs": [
    {
     "data": {
      "text/plain": [
       "3"
      ]
     },
     "execution_count": 24,
     "metadata": {},
     "output_type": "execute_result"
    }
   ],
   "source": []
  }
 ],
 "metadata": {
  "kernelspec": {
   "display_name": "Python 3",
   "language": "python",
   "name": "python3"
  },
  "language_info": {
   "codemirror_mode": {
    "name": "ipython",
    "version": 3
   },
   "file_extension": ".py",
   "mimetype": "text/x-python",
   "name": "python",
   "nbconvert_exporter": "python",
   "pygments_lexer": "ipython3",
   "version": "3.8.5"
  }
 },
 "nbformat": 4,
 "nbformat_minor": 5
}
