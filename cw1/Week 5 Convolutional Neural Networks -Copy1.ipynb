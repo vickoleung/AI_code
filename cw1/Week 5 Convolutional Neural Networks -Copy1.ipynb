{
 "cells": [
  {
   "cell_type": "markdown",
   "metadata": {},
   "source": [
    "### This lab is based on [the original PyTorch tutorial](https://pytorch.org/tutorials/beginner/blitz/cifar10_tutorial.html#sphx-glr-beginner-blitz-cifar10-tutorial-py)\n",
    "\n",
    "#### The goal of this notebook is to learn how to train a Convolutional Neural Networks model to classify images from the CIFAR10 dataset. "
   ]
  },
  {
   "cell_type": "code",
   "execution_count": 1,
   "metadata": {},
   "outputs": [],
   "source": [
    "%matplotlib inline"
   ]
  },
  {
   "cell_type": "markdown",
   "metadata": {},
   "source": [
    "\n",
    "Training a Classifier\n",
    "=====================\n",
    "\n",
    "This is it. You have seen how to define neural networks, compute loss and make\n",
    "updates to the weights of the network.\n",
    "\n",
    "Now you might be thinking,\n",
    "\n",
    "What about data?\n",
    "----------------\n",
    "\n",
    "Generally, when you have to deal with image, text, audio or video data,\n",
    "you can use standard python packages that load data into a numpy array.\n",
    "Then you can convert this array into a ``torch.*Tensor``.\n",
    "\n",
    "For vision data, there is a package in PyTorch called\n",
    "``torchvision``, that has data loaders for common datasets such as\n",
    "Imagenet, CIFAR10, MNIST, etc. and data transformers for images, viz.,\n",
    "``torchvision.datasets`` and ``torch.utils.data.DataLoader``.\n",
    "\n",
    "This provides a huge convenience and avoids writing boilerplate code.\n",
    "\n",
    "For this lab, we will use the CIFAR10 dataset.\n",
    "It has the classes: ‘airplane’, ‘automobile’, ‘bird’, ‘cat’, ‘deer’,\n",
    "‘dog’, ‘frog’, ‘horse’, ‘ship’, ‘truck’. The images in CIFAR-10 are of\n",
    "size 3x32x32, i.e. 3-channel color images of 32x32 pixels in size.\n",
    "\n",
    "![](cifar10.png)\n",
    "\n",
    "Training an image classifier\n",
    "----------------------------\n",
    "\n",
    "We will do the following steps in order:\n",
    "\n",
    "1. Load and normalizing the CIFAR10 training and test datasets using\n",
    "   ``torchvision``\n",
    "2. Define a Convolutional Neural Network\n",
    "3. Define a loss function\n",
    "4. Train the network on the training data"
   ]
  },
  {
   "cell_type": "markdown",
   "metadata": {},
   "source": [
    "1. Loading and normalizing CIFAR10\n",
    "\n",
    "\n",
    "Using ``torchvision``, it’s extremely easy to load CIFAR10.\n"
   ]
  },
  {
   "cell_type": "code",
   "execution_count": 1,
   "metadata": {},
   "outputs": [
    {
     "name": "stdout",
     "output_type": "stream",
     "text": [
      "Found 8998 images.\n",
      "                                                path  class\n",
      "0  imagenet10/train_set/football\\n04254680_9042.JPEG      7\n",
      "1       imagenet10/train_set/mug\\n03797390_4264.JPEG      8\n",
      "2       imagenet10/train_set/cat\\n02123159_3683.JPEG      3\n",
      "3       imagenet10/train_set/mug\\n03797390_4229.JPEG      8\n",
      "4     imagenet10/train_set/canoe\\n02951358_3046.JPEG      2\n",
      "len(dataset_train) 7198\n",
      "len(dataset_valid) 1800\n",
      "len(train_loader) 720\n",
      "len(valid_loader) 180\n"
     ]
    }
   ],
   "source": [
    "import torch\n",
    "import torchvision\n",
    "import torchvision.transforms as transforms\n",
    "from imagenet10 import ImageNet10\n",
    "import numpy as np\n",
    "import matplotlib.pyplot as plt\n",
    "from torch import nn, optim\n",
    "import torch.nn.functional as F\n",
    "import pandas as pd\n",
    "import os\n",
    "from config import *\n",
    "\n",
    "\n",
    "# Gathers the meta data for the images\n",
    "paths, classes = [], []\n",
    "for i, dir_ in enumerate(CLASS_LABELS):\n",
    "    for entry in os.scandir(ROOT_DIR + dir_):\n",
    "        if (entry.is_file()):\n",
    "            paths.append(entry.path)\n",
    "            classes.append(i)\n",
    "            \n",
    "data = {\n",
    "    'path': paths,\n",
    "    'class': classes\n",
    "}\n",
    "\n",
    "\n",
    "data_df = pd.DataFrame(data, columns=['path', 'class'])\n",
    "data_df = data_df.sample(frac=1).reset_index(drop=True) # Shuffles the data\n",
    "\n",
    "# See what the dataframe now contains\n",
    "print(\"Found\", len(data_df), \"images.\")\n",
    "# If you want to see the image meta data\n",
    "print(data_df.head())\n",
    "\n",
    "# Split the data into train and test sets and instantiate our new ImageNet10 objects.\n",
    "train_split = 0.80 # Defines the ratio of train/valid data.\n",
    "\n",
    "# valid_size = 1.0 - train_size\n",
    "train_size = int(len(data_df)*train_split)\n",
    "\n",
    "data_transform = transforms.Compose([\n",
    "        transforms.Resize(128),\n",
    "        transforms.CenterCrop(128),\n",
    "        transforms.ToTensor(),\n",
    "        transforms.Normalize(NORM_MEAN, NORM_STD),\n",
    "    ])\n",
    "\n",
    "dataset_train = ImageNet10(\n",
    "    df=data_df[:train_size],\n",
    "    transform=data_transform,\n",
    ")\n",
    "\n",
    "dataset_valid = ImageNet10(\n",
    "    df=data_df[train_size:].reset_index(drop=True),\n",
    "    transform=data_transform,\n",
    ")\n",
    "\n",
    "train_loader = torch.utils.data.DataLoader(\n",
    "    dataset_train,\n",
    "    batch_size=10,  # The number of samples in a batch\n",
    "    shuffle=True,\n",
    "    num_workers=0 \n",
    ")\n",
    "\n",
    "valid_loader = torch.utils.data.DataLoader(\n",
    "    dataset_valid,\n",
    "    batch_size=10,\n",
    "    shuffle=True,\n",
    "    num_workers=0\n",
    ")\n",
    "\n",
    "# See what you've loaded\n",
    "print(\"len(dataset_train)\", len(dataset_train))\n",
    "print(\"len(dataset_valid)\", len(dataset_valid))\n",
    "\n",
    "print(\"len(train_loader)\", len(train_loader))\n",
    "print(\"len(valid_loader)\", len(valid_loader))\n",
    "\n"
   ]
  },
  {
   "cell_type": "markdown",
   "metadata": {},
   "source": [
    "Let us show some of the training images, for fun.\n",
    "\n"
   ]
  },
  {
   "cell_type": "markdown",
   "metadata": {},
   "source": [
    "2. Define a Convolutional Neural Network Model"
   ]
  },
  {
   "cell_type": "code",
   "execution_count": 2,
   "metadata": {},
   "outputs": [
    {
     "name": "stdout",
     "output_type": "stream",
     "text": [
      "cuda:0\n"
     ]
    }
   ],
   "source": [
    "device = torch.device(\"cuda:0\" if torch.cuda.is_available() else \"cpu\")\n",
    "print(device)"
   ]
  },
  {
   "cell_type": "code",
   "execution_count": 3,
   "metadata": {},
   "outputs": [
    {
     "data": {
      "text/plain": [
       "Net(\n",
       "  (conv1): Conv2d(3, 32, kernel_size=(5, 5), stride=(1, 1), padding=(2, 2))\n",
       "  (conv2): Conv2d(32, 64, kernel_size=(5, 5), stride=(1, 1), padding=(2, 2))\n",
       "  (conv3): Conv2d(64, 128, kernel_size=(5, 5), stride=(1, 1), padding=(2, 2))\n",
       "  (pool): MaxPool2d(kernel_size=2, stride=2, padding=0, dilation=1, ceil_mode=False)\n",
       "  (fc1): Linear(in_features=32768, out_features=128, bias=True)\n",
       "  (fc2): Linear(in_features=128, out_features=64, bias=True)\n",
       "  (fc3): Linear(in_features=64, out_features=32, bias=True)\n",
       "  (fc4): Linear(in_features=32, out_features=10, bias=True)\n",
       ")"
      ]
     },
     "execution_count": 3,
     "metadata": {},
     "output_type": "execute_result"
    }
   ],
   "source": [
    "import torch.nn as nn\n",
    "import torch.nn.functional as F\n",
    "\n",
    "\n",
    "class Net(nn.Module):\n",
    "    def __init__(self, num_classes = 10):\n",
    "        super(Net, self).__init__()\n",
    "        self.conv1 = nn.Conv2d(3, 32, 5, padding = 2) \n",
    "        self.conv2 = nn.Conv2d(32, 64, 5, padding = 2)\n",
    "        self.conv3 = nn.Conv2d(64, 128, 5, padding = 2)\n",
    "        self.pool = nn.MaxPool2d(2, 2)\n",
    "        self.fc1 = nn.Linear(128 * 16 * 16, 128)\n",
    "        self.fc2 = nn.Linear(128, 64)\n",
    "        self.fc3 = nn.Linear(64, 32)\n",
    "        self.fc4 = nn.Linear(32, num_classes)\n",
    "        \n",
    "\n",
    "    def forward(self, x):\n",
    "        x = self.pool(F.relu(self.conv1(x)))\n",
    "        x = self.pool(F.relu(self.conv2(x)))\n",
    "        x = self.pool(F.relu(self.conv3(x)))\n",
    "        x = x.view(-1, self.num_flat_features(x))\n",
    "        x = F.relu(self.fc1(x))\n",
    "        x = F.relu(self.fc2(x))\n",
    "        x = F.relu(self.fc3(x))\n",
    "        x = self.fc4(x)\n",
    "        return x\n",
    "    \n",
    "    def num_flat_features(self, x):\n",
    "        size = x.size()[1:]  # all dimensions except the batch dimension\n",
    "        num_features = 1\n",
    "        for s in size:\n",
    "            num_features *= s\n",
    "        return num_features\n",
    "\n",
    "net = Net()\n",
    "net.to(device)"
   ]
  },
  {
   "cell_type": "markdown",
   "metadata": {},
   "source": [
    "3. Define a Loss function and optimizer\n",
    "\n",
    "Let's use a Classification Cross-Entropy loss and SGD with momentum.\n",
    "\n"
   ]
  },
  {
   "cell_type": "code",
   "execution_count": 4,
   "metadata": {},
   "outputs": [],
   "source": [
    "import torch.optim as optim\n",
    "\n",
    "# Note: CrossEntropyLoss combines nn.LogSoftmax() and nn.NLLLoss() in one single class.\n",
    "# x -> softmax -> log -> negative log likelihood loss\n",
    "criterion = nn.CrossEntropyLoss()\n",
    "\n",
    "# the optimization method:  stochastic gradient descent (optionally with momentum=0.9).\n",
    "# the learning rate=0.001\n",
    "optimizer = optim.Adam(net.parameters(), lr=0.001) #momentum=0.9 for SGD"
   ]
  },
  {
   "cell_type": "markdown",
   "metadata": {},
   "source": [
    "4. Train the network\n",
    "\n",
    "\n",
    "This is when things start to get interesting.\n",
    "We simply have to loop over our data iterator, and feed the inputs to the\n",
    "network and optimize.\n",
    "\n"
   ]
  },
  {
   "cell_type": "code",
   "execution_count": 5,
   "metadata": {},
   "outputs": [
    {
     "name": "stdout",
     "output_type": "stream",
     "text": [
      "training loss:  1.948954711192184\n",
      "validation loss:  1.8353082531028324\n",
      "training loss:  1.7077227807707256\n",
      "validation loss:  1.6538427035013834\n",
      "training loss:  1.4729330158068075\n",
      "validation loss:  1.5400998834106656\n",
      "training loss:  1.166964453127649\n",
      "validation loss:  1.5525844959749115\n",
      "training loss:  0.8277906086683894\n",
      "validation loss:  1.8441149638758765\n",
      "training loss:  0.5465968557963303\n",
      "validation loss:  2.3170686728424497\n",
      "training loss:  0.38148067056835216\n",
      "validation loss:  2.927658274769783\n",
      "training loss:  0.2755377194524044\n",
      "validation loss:  2.964496294657389\n",
      "training loss:  0.20037972079864833\n",
      "validation loss:  3.2568038153979515\n",
      "training loss:  0.17201988951208275\n",
      "validation loss:  3.4168099992805057\n",
      "training loss:  0.15672454437535635\n",
      "validation loss:  3.369105670187208\n",
      "training loss:  0.14903101640627736\n",
      "validation loss:  3.788774667514695\n",
      "training loss:  0.1256429544476911\n",
      "validation loss:  3.9125980771250193\n",
      "training loss:  0.11339954387125949\n",
      "validation loss:  4.42141179309951\n",
      "training loss:  0.10468239360986568\n",
      "validation loss:  4.405057738886939\n",
      "training loss:  0.0877421951488461\n",
      "validation loss:  4.02765955047475\n",
      "training loss:  0.10216245364350224\n",
      "validation loss:  4.472014778190189\n",
      "training loss:  0.07275447594602408\n",
      "validation loss:  4.6021642214722105\n",
      "training loss:  0.06757039465571966\n",
      "validation loss:  4.3851482388046055\n",
      "training loss:  0.10725196551192401\n",
      "validation loss:  4.777601467569669\n",
      "Finished Training\n"
     ]
    }
   ],
   "source": [
    "# this to plot the losses later\n",
    "losses = {'loss':[], 'val_loss':[]}\n",
    "num_batches = len(train_loader)\n",
    "num_batches_val = len(valid_loader)\n",
    "\n",
    "# number of epochs\n",
    "n_epoch = 20\n",
    "\n",
    "\n",
    "for epoch in range(n_epoch):  # loop over the dataset multiple times\n",
    "    running_loss = 0.0\n",
    "    epoch_loss = 0.0\n",
    "    epoch_val_loss = 0.0\n",
    "    \n",
    "    # loop over the train set in mini-batches\n",
    "    for i, data in enumerate(train_loader, 0):\n",
    "        # get the inputs; data is a list of [inputs, labels]\n",
    "        inputs, labels = data\n",
    "        inputs = inputs.to(device)\n",
    "        labels = labels.to(device)\n",
    "\n",
    "\n",
    "        # zero the parameter gradients\n",
    "        optimizer.zero_grad()\n",
    "\n",
    "        # forward + backward + optimize\n",
    "        outputs = net(inputs)\n",
    "        loss = criterion(outputs, labels)\n",
    "        loss.backward()\n",
    "        optimizer.step()\n",
    "\n",
    "        # print statistics\n",
    "        running_loss += loss.item()\n",
    "        epoch_loss += loss.item()\n",
    "        if i % 2000 == 1999:    # print every 2000 mini-batches\n",
    "            print('[%d, %5d] loss: %.3f' %\n",
    "                  (epoch + 1, i + 1, running_loss / 2000))\n",
    "            running_loss = 0.0\n",
    "        \n",
    "    losses['loss'].append(epoch_loss/num_batches)\n",
    "    print('training loss: ', epoch_loss/num_batches)\n",
    "    \n",
    "    # Here we do validation so we don't need to compute the gradient\n",
    "    with torch.no_grad():\n",
    "        # loop over the validation set\n",
    "        for val_data in valid_loader:\n",
    "            val_inputs, val_labels = val_data\n",
    "            val_inputs = val_inputs.to(device)\n",
    "            val_labels = val_labels.to(device)\n",
    "            val_outputs = net(val_inputs)\n",
    "            val_loss = criterion(val_outputs, val_labels)\n",
    "            epoch_val_loss += val_loss.item()\n",
    "    print('validation loss: ',epoch_val_loss/num_batches_val)\n",
    "    losses['val_loss'].append(epoch_val_loss/num_batches_val)\n",
    "            \n",
    "                \n",
    "\n",
    "print('Finished Training')"
   ]
  },
  {
   "cell_type": "code",
   "execution_count": 6,
   "metadata": {},
   "outputs": [],
   "source": [
    "### this function is to plot the losses per epoch\n",
    "def plot_train_performance(loss, val_loss): \n",
    "    epochs       = range(len(loss))\n",
    "    f1 = plt.figure(1)\n",
    "    plt.subplot()\n",
    "    plt.axis((0,len(epochs),0,5))\n",
    "    plt.plot(epochs, loss, 'bo', label='Training loss')\n",
    "    plt.plot(epochs, val_loss, 'b', label='valid loss')\n",
    "    plt.title('Training and valid loss')\n",
    "    plt.legend()\n",
    "    plt.show()"
   ]
  },
  {
   "cell_type": "code",
   "execution_count": 7,
   "metadata": {},
   "outputs": [
    {
     "data": {
      "image/png": "[encoded data removed]",
      "text/plain": [
       "<Figure size 432x288 with 1 Axes>"
      ]
     },
     "metadata": {
      "needs_background": "light"
     },
     "output_type": "display_data"
    }
   ],
   "source": [
    "# plotting the losses\n",
    "plot_train_performance(losses['loss'], losses['val_loss'])"
   ]
  },
  {
   "cell_type": "markdown",
   "metadata": {},
   "source": [
    "Let's quickly save our trained model:\n",
    "\n"
   ]
  },
  {
   "cell_type": "code",
   "execution_count": 50,
   "metadata": {},
   "outputs": [],
   "source": [
    "PATH = './cifar_net.pth'\n",
    "torch.save(net.state_dict(), PATH)"
   ]
  },
  {
   "cell_type": "markdown",
   "metadata": {},
   "source": [
    "See [here](https://pytorch.org/docs/stable/notes/serialization.html)\n",
    "for more details on saving PyTorch models."
   ]
  },
  {
   "cell_type": "markdown",
   "metadata": {},
   "source": [
    "The results seem pretty good.\n",
    "\n",
    "Let us look at how the network performs on the whole validation set.\n",
    "\n"
   ]
  },
  {
   "cell_type": "code",
   "execution_count": 9,
   "metadata": {},
   "outputs": [
    {
     "name": "stdout",
     "output_type": "stream",
     "text": [
      "Accuracy of the network on the 10000 test images: 46 %\n"
     ]
    }
   ],
   "source": [
    "correct = 0\n",
    "total = 0\n",
    "with torch.no_grad():\n",
    "    for data in valid_loader:\n",
    "        images, labels = data\n",
    "        images = images.to(device)\n",
    "        labels = labels.to(device)\n",
    "        outputs = net(images)\n",
    "        _, predicted = torch.max(outputs.data, 1)\n",
    "        total += labels.size(0)\n",
    "        correct += (predicted == labels).sum().item()\n",
    "\n",
    "print('Accuracy of the network on the 10000 test images: %d %%' % (\n",
    "    100 * correct / total))"
   ]
  },
  {
   "cell_type": "markdown",
   "metadata": {},
   "source": [
    "That looks way better than chance, which is 10% accuracy (randomly picking\n",
    "a class out of 10 classes).\n",
    "Seems like the network learnt something.\n",
    "\n",
    "Hmmm, what are the classes that performed well, and the classes that did\n",
    "not perform well:\n",
    "\n"
   ]
  },
  {
   "cell_type": "code",
   "execution_count": 15,
   "metadata": {},
   "outputs": [
    {
     "name": "stdout",
     "output_type": "stream",
     "text": [
      "Accuracy of     0 : 55 %\n",
      "Accuracy of     1 : 60 %\n",
      "Accuracy of     2 : 46 %\n",
      "Accuracy of     3 : 25 %\n",
      "Accuracy of     4 : 25 %\n",
      "Accuracy of     5 : 44 %\n",
      "Accuracy of     6 : 44 %\n",
      "Accuracy of     7 : 28 %\n",
      "Accuracy of     8 : 34 %\n",
      "Accuracy of     9 : 70 %\n"
     ]
    }
   ],
   "source": [
    "class_correct = list(0. for i in range(10))\n",
    "class_total = list(0. for i in range(10))\n",
    "with torch.no_grad():\n",
    "    for data in valid_loader:\n",
    "        images, labels = data\n",
    "        images = images.to(device)\n",
    "        labels = labels.to(device)\n",
    "        outputs = net(images)\n",
    "        _, predicted = torch.max(outputs, 1)\n",
    "        c = (predicted == labels).squeeze()\n",
    "        for i in range(4):\n",
    "            label = labels[i]\n",
    "            class_correct[label] += c[i].item()\n",
    "            class_total[label] += 1\n",
    "\n",
    "\n",
    "for i in range(10):\n",
    "    print('Accuracy of %5s : %2d %%' % (\n",
    "        classes[i], 100 * class_correct[i] / class_total[i]))"
   ]
  },
  {
   "cell_type": "markdown",
   "metadata": {},
   "source": [
    "Okay, so what next?\n",
    "\n",
    "How do we run these neural networks on the GPU?\n",
    "\n",
    "Training on GPU\n",
    "----------------\n",
    "Just like how you transfer a Tensor onto the GPU, you transfer the neural\n",
    "net onto the GPU.\n",
    "\n",
    "Let's first define our device as the first visible cuda device if we have\n",
    "CUDA available:\n",
    "\n"
   ]
  },
  {
   "cell_type": "code",
   "execution_count": 11,
   "metadata": {},
   "outputs": [
    {
     "name": "stdout",
     "output_type": "stream",
     "text": [
      "cuda:0\n"
     ]
    }
   ],
   "source": [
    "device = torch.device(\"cuda:0\" if torch.cuda.is_available() else \"cpu\")\n",
    "\n",
    "# Assuming that we are on a CUDA machine, this should print a CUDA device:\n",
    "\n",
    "print(device)"
   ]
  },
  {
   "cell_type": "code",
   "execution_count": 154,
   "metadata": {},
   "outputs": [
    {
     "data": {
      "text/plain": [
       "tensor([[-0.1727,  1.3039, -0.3911, -0.2046, -0.3010, -0.1949,  2.2849,  0.4018,\n",
       "         -2.2171,  2.2449]], device='cuda:0', grad_fn=<AddmmBackward>)"
      ]
     },
     "execution_count": 154,
     "metadata": {},
     "output_type": "execute_result"
    }
   ],
   "source": [
    "net.to(device)\n",
    "from torch.autograd import Variable\n",
    "x = torch.randn(1,3,32,32)\n",
    "x = x.to(device)\n",
    "\n",
    "net(x)"
   ]
  },
  {
   "cell_type": "markdown",
   "metadata": {},
   "source": [
    "The rest of this section assumes that ``device`` is a CUDA device.\n",
    "\n",
    "Then these methods will recursively go over all modules and convert their\n",
    "parameters and buffers to CUDA tensors:\n",
    "\n",
    "\n",
    "    net.to(device)\n",
    "\n",
    "\n",
    "Remember that you will have to send the inputs and targets at every step\n",
    "to the GPU too:\n",
    "\n",
    "    inputs, labels = data[0].to(device), data[1].to(device)"
   ]
  },
  {
   "cell_type": "markdown",
   "metadata": {},
   "source": [
    "## Exercise"
   ]
  },
  {
   "cell_type": "markdown",
   "metadata": {},
   "source": [
    "####  Design an architecture that achieves a loss on the training data (training loss) that is as far below 0.35 as you can."
   ]
  },
  {
   "cell_type": "markdown",
   "metadata": {},
   "source": [
    "### You need to modify the current architecture. We propose some possible modifications you should test yourself, in order to select the architecture that you consider best:\n",
    "\n",
    "- In Conv2D layers: change the dimension of the kernel, the number of kernels, the stride and the padding\n",
    "- In linear layers: change the number of neurons in the layer.\n",
    "- Change the number of conv2D and linear layers.\n",
    "- Change the hyperparameters: learning rate, batch_size,etc.\n",
    "- change the optimization method"
   ]
  }
 ],
 "metadata": {
  "kernelspec": {
   "display_name": "Python 3",
   "language": "python",
   "name": "python3"
  },
  "language_info": {
   "codemirror_mode": {
    "name": "ipython",
    "version": 3
   },
   "file_extension": ".py",
   "mimetype": "text/x-python",
   "name": "python",
   "nbconvert_exporter": "python",
   "pygments_lexer": "ipython3",
   "version": "3.7.6"
  }
 },
 "nbformat": 4,
 "nbformat_minor": 1
}
